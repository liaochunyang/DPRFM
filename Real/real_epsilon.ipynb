{
 "cells": [
  {
   "cell_type": "markdown",
   "metadata": {},
   "source": [
    "# Differentially private random feature models: real data\n",
    "\n",
    "We test our proposed model on two real datasets and compare different privacy budget $\\epsilon_p$."
   ]
  },
  {
   "cell_type": "code",
   "execution_count": 1,
   "metadata": {},
   "outputs": [],
   "source": [
    "import numpy as np\n",
    "import pandas as pd\n",
    "import matplotlib.pyplot as plt\n",
    "\n",
    "from sklearn.linear_model import Ridge, LinearRegression\n",
    "from sklearn.model_selection import train_test_split\n",
    "from sklearn.preprocessing import MinMaxScaler\n",
    "import time\n",
    "\n",
    "from scipy import io\n",
    "from matplotlib import cm\n",
    "\n",
    "from DP_RF import *"
   ]
  },
  {
   "cell_type": "markdown",
   "metadata": {},
   "source": [
    "## Data processing"
   ]
  },
  {
   "cell_type": "code",
   "execution_count": 26,
   "metadata": {},
   "outputs": [],
   "source": [
    "################ Preprocessing\n",
    "\n",
    "def one_hot(df, cols): # idk if sklearns one-hot encoder is similar\n",
    "    \"\"\"\n",
    "    df: pandas DataFrame\n",
    "    param: cols a list of columns to encode \n",
    "    return a DataFrame with one-hot encoding\n",
    "    \"\"\"\n",
    "    for each in cols:\n",
    "        dummies = pd.get_dummies(df[each], prefix=each, drop_first=False)\n",
    "        df = pd.concat([df, dummies], axis=1)\n",
    "    return df\n",
    "\n",
    "def numeric_scaler(df, cols):\n",
    "    '''\n",
    "    df: pandas dataframe\n",
    "    numeric_cols: (array of strings) column names for numeric variables\n",
    "\n",
    "    no return: does inplace operation\n",
    "    '''\n",
    "    df_new = df.copy()\n",
    "    mmscaler = MinMaxScaler()\n",
    "    df_new[cols] = mmscaler.fit_transform(df_new[cols])\n",
    "    return df_new\n",
    "\n",
    "def numeric_scaler_numpy(arr):\n",
    "    '''\n",
    "    arr (numpy array):  \n",
    "    '''\n",
    "    mmscaler = MinMaxScaler()\n",
    "    scaled_arr = mmscaler.fit_transform(arr)\n",
    "    return scaled_arr\n",
    "    "
   ]
  },
  {
   "cell_type": "code",
   "execution_count": 27,
   "metadata": {},
   "outputs": [],
   "source": [
    "# Preprocessing\n",
    "df_medical = pd.read_csv('insurance.csv')\n",
    "numeric_all = ['age', 'bmi', 'children', 'charges']\n",
    "cat_all = ['sex', 'smoker', 'region']\n",
    "\n",
    "df_medical_mm = numeric_scaler(df_medical, numeric_all) # minmax scaling for all numeric columns, so all elements in [0,1]\n",
    "df_medical_mm_oh = one_hot(df_medical_mm, cat_all)\n",
    "df_medical_mm_oh.drop(cat_all, axis = 1, inplace=True) # drop the categorics that were used to one hot encode\n",
    "df_medical_mm_oh = df_medical_mm_oh * 1.0 # make bool true, false into 1.0, 0.0\n",
    "\n",
    "X = df_medical_mm_oh.drop('charges', axis=1)\n",
    "X = X.to_numpy() # now (n, d+1) dimensional, linear regression in d+1 is affine in d\n",
    "y = df_medical_mm_oh['charges'].to_numpy()"
   ]
  },
  {
   "cell_type": "code",
   "execution_count": 28,
   "metadata": {},
   "outputs": [],
   "source": [
    "################################# Compare different epsilon's\n",
    "# number of random features\n",
    "N_range = range(2000,12000,2000)\n",
    "gamma = 20\n",
    "\n",
    "# privacy budget\n",
    "epsilon = [0.01,0.1,1]\n",
    "# privacy parameter\n",
    "delta = 1e-5\n",
    "\n",
    "x_train, x_test, y_train, y_test = train_test_split(X,y, test_size=0.1)\n",
    "# numner of iterations, also number of training samples\n",
    "T = np.size(y_train)\n",
    "\n",
    "# error and time\n",
    "K = 10   # repeat K times\n",
    "err_np = np.zeros( (len(N_range), K) )\n",
    "err_eps1 = np.zeros( (len(N_range), K) )\n",
    "err_eps2 = np.zeros( (len(N_range), K) )\n",
    "err_eps3 = np.zeros( (len(N_range), K) )"
   ]
  },
  {
   "cell_type": "code",
   "execution_count": 29,
   "metadata": {},
   "outputs": [],
   "source": [
    "for i in range(len(N_range)):\n",
    "    \n",
    "    N = N_range[i]\n",
    "    Delta_c = 4/np.sqrt(N)    # l2-sensitivity\n",
    "    \n",
    "    for j in range(K):\n",
    "    \n",
    "        # random feature matrix\n",
    "        A_train, A_test = RF_Gaussian(gamma, N, x_train, x_test)\n",
    "    \n",
    "        c = randomized_kaczmarz(A_train, y_train, np.zeros((N,)), T)   # non-private\n",
    "        err_np[i,j] = np.linalg.norm(y_test - A_test @ c)**2 / np.size(y_test)\n",
    "        \n",
    "        # epsilon = 0.25\n",
    "        c_eps1 = private(c, Delta_c, 0.25, delta, \"Gaussian\")  # private ours\n",
    "        err_eps1[i,j] = np.linalg.norm(y_test - A_test @ c_eps1)**2 / np.size(y_test)\n",
    "        \n",
    "        # epsilon = 0.5\n",
    "        c_eps2 = private(c, Delta_c, 0.5, delta, \"Gaussian\")  # private ours\n",
    "        err_eps2[i,j] = np.linalg.norm(y_test - A_test @ c_eps2)**2 / np.size(y_test)\n",
    "    \n",
    "        # epsilon = 1\n",
    "        c_eps3 = private(c, Delta_c, 1, delta, \"Gaussian\")  # private ours\n",
    "        err_eps3[i,j] = np.linalg.norm(y_test - A_test @ c_eps3)**2 / np.size(y_test)"
   ]
  },
  {
   "cell_type": "code",
   "execution_count": 30,
   "metadata": {},
   "outputs": [
    {
     "data": {
      "image/png": "[encoded data removed]",
      "text/plain": [
       "<Figure size 432x288 with 1 Axes>"
      ]
     },
     "metadata": {
      "needs_background": "light"
     },
     "output_type": "display_data"
    }
   ],
   "source": [
    "plt.plot(N_range, np.mean(err_np, axis=1), '-*', label='Non-private')\n",
    "plt.plot(N_range, np.mean(err_eps1, axis=1), '-*', label=r'$\\epsilon_p = 0.25$')\n",
    "plt.plot(N_range, np.mean(err_eps2, axis=1), '-*', label=r'$\\epsilon_p = 0.5$')\n",
    "plt.plot(N_range, np.mean(err_eps3, axis=1), '-*', label=r'$\\epsilon_p = 1$')\n",
    "plt.legend(fontsize=15)\n",
    "plt.xticks(N_range)\n",
    "plt.ylabel('Test error', size=20)\n",
    "plt.xlabel(r'Number of random features $N$', size=20)\n",
    "plt.savefig('real1_eps.pdf', bbox_inches = 'tight')"
   ]
  },
  {
   "cell_type": "markdown",
   "metadata": {},
   "source": [
    "## real data: wine quality"
   ]
  },
  {
   "cell_type": "code",
   "execution_count": 17,
   "metadata": {},
   "outputs": [],
   "source": [
    "# read data and data processing\n",
    "wine = pd.read_csv('winequality-red.csv', sep=';')\n",
    "wine_new = wine.to_numpy()\n",
    "\n",
    "X = wine_new[:,:11]\n",
    "y = wine_new[:,-1]\n",
    "\n",
    "mmscaler = MinMaxScaler()\n",
    "X = mmscaler.fit_transform(X)"
   ]
  },
  {
   "cell_type": "code",
   "execution_count": 21,
   "metadata": {},
   "outputs": [],
   "source": [
    "# read data and data processing\n",
    "wine = pd.read_csv('winequality-red.csv', sep=';')\n",
    "wine_new = wine.to_numpy()\n",
    "\n",
    "mmscaler = MinMaxScaler()\n",
    "wine_new = mmscaler.fit_transform(wine_new)\n",
    "\n",
    "X = wine_new[:,:11]\n",
    "y = wine_new[:,-1]"
   ]
  },
  {
   "cell_type": "code",
   "execution_count": 22,
   "metadata": {},
   "outputs": [],
   "source": [
    "################################ Compare different epsilon's\n",
    "# number of random features\n",
    "N_range = range(2000,12000,2000)\n",
    "gamma = 20\n",
    "\n",
    "# privacy budget\n",
    "delta = 1e-5\n",
    "\n",
    "x_train, x_test, y_train, y_test = train_test_split(X,y, test_size=0.1)\n",
    "# numner of iterations, also number of training samples\n",
    "T = np.size(y_train)\n",
    "\n",
    "# error and time\n",
    "K = 10   # repeat K times\n",
    "err_np = np.zeros( (len(N_range), K) )\n",
    "err_eps1 = np.zeros( (len(N_range), K) )\n",
    "err_eps2 = np.zeros( (len(N_range), K) )\n",
    "err_eps3 = np.zeros( (len(N_range), K) )"
   ]
  },
  {
   "cell_type": "code",
   "execution_count": 23,
   "metadata": {},
   "outputs": [],
   "source": [
    "for i in range(len(N_range)):\n",
    "    \n",
    "    N = N_range[i]\n",
    "    Delta_c = 4/np.sqrt(N)    # l2-sensitivity\n",
    "    \n",
    "    for j in range(K):\n",
    "    \n",
    "        # random feature matrix\n",
    "        A_train, A_test = RF_Gaussian(gamma, N, x_train, x_test)\n",
    "    \n",
    "        c = randomized_kaczmarz(A_train, y_train, np.zeros((N,)), T)   # non-private\n",
    "        err_np[i,j] = np.linalg.norm(y_test - A_test @ c)**2 / np.size(y_test)\n",
    "        \n",
    "        # epsilon = 0.25\n",
    "        c_eps1 = private(c, Delta_c, 0.25, delta, \"Gaussian\")  # private ours\n",
    "        err_eps1[i,j] = np.linalg.norm(y_test - A_test @ c_eps1)**2 / np.size(y_test)\n",
    "        \n",
    "        # epsilon = 0.5\n",
    "        c_eps2 = private(c, Delta_c, 0.5, delta, \"Gaussian\")  # private ours\n",
    "        err_eps2[i,j] = np.linalg.norm(y_test - A_test @ c_eps2)**2 / np.size(y_test)\n",
    "    \n",
    "        # epsilon = 1\n",
    "        c_eps3 = private(c, Delta_c, 1, delta, \"Gaussian\")  # private ours\n",
    "        err_eps3[i,j] = np.linalg.norm(y_test - A_test @ c_eps3)**2 / np.size(y_test)"
   ]
  },
  {
   "cell_type": "code",
   "execution_count": 24,
   "metadata": {},
   "outputs": [
    {
     "data": {
      "image/png": "[encoded data removed]",
      "text/plain": [
       "<Figure size 432x288 with 1 Axes>"
      ]
     },
     "metadata": {
      "needs_background": "light"
     },
     "output_type": "display_data"
    }
   ],
   "source": [
    "plt.plot(N_range, np.mean(err_np, axis=1), '-*', label='Non-private')\n",
    "plt.plot(N_range, np.mean(err_eps1, axis=1), '-*', label=r'$\\epsilon_p = 0.25$')\n",
    "plt.plot(N_range, np.mean(err_eps2, axis=1), '-*', label=r'$\\epsilon_p = 0.5$')\n",
    "plt.plot(N_range, np.mean(err_eps3, axis=1), '-*', label=r'$\\epsilon_p = 1$')\n",
    "plt.legend(fontsize=15)\n",
    "plt.xticks(N_range)\n",
    "plt.ylabel('Test error', size=20)\n",
    "plt.xlabel(r'Number of random features $N$', size=20)\n",
    "plt.savefig('real2_eps.pdf', bbox_inches = 'tight')"
   ]
  }
 ],
 "metadata": {
  "kernelspec": {
   "display_name": "Python 3",
   "language": "python",
   "name": "python3"
  },
  "language_info": {
   "codemirror_mode": {
    "name": "ipython",
    "version": 3
   },
   "file_extension": ".py",
   "mimetype": "text/x-python",
   "name": "python",
   "nbconvert_exporter": "python",
   "pygments_lexer": "ipython3",
   "version": "3.7.6"
  }
 },
 "nbformat": 4,
 "nbformat_minor": 4
}
